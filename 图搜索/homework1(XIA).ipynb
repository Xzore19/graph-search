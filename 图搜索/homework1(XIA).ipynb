{
 "cells": [
  {
   "cell_type": "markdown",
   "metadata": {
    "id": "E_CdYw1Fu-YR",
    "tags": []
   },
   "source": [
    "# グラフ探索アルゴリズムI 第1回\n",
    "\n",
    "## グラフ探索問題の表現方法\n",
    "\n",
    "### グラフに関する用語\n",
    "\n",
    "グラフとは点と線からなるデータ構造である。この講義では節点 (node) と辺 (edge) という。節点のことは vertex などと言うこともある。辺は branch や arc などとも言う。  \n",
    "対象となる問題によっては違う呼び方をすることもある。例えばゲームやパズルでは、節点を局面 (position) 、辺を着手 (move) と呼ぶこともある。\n",
    "\n",
    "<img src=\"fig1-1.png\" width=200>  \n",
    "グラフ1\n",
    "\n",
    "### グラフの表現\n",
    "\n",
    "グラフを表現するデータ構造は様々なものがある。\n",
    "以下の例は図のグラフを隣接行列によって表現した物である。\n",
    "小さなグラフ、あるいは密 (dense) なグラフは隣接行列で表現するのが自然である。\n",
    "(密なグラフとは枝 (edge) の本数が多いグラフのことを指す。)\n",
    "S, a, b, c, d, G をそれぞれ 0, 1, 2, 3, 4, 5 番目の要素としている。行列の要素が辺の長さを示す。長さ0で接続がないことを現している。1行目は、節点aは節点cへコスト4で接続されていることを示す。有向グラフなので、逆向きは接続がないので0が入っている。（なお、このグラフは UC Berkeley の講義 CS188 の宿題を引用したものである。）"
   ]
  },
  {
   "cell_type": "code",
   "execution_count": 3,
   "metadata": {
    "colab": {
     "base_uri": "https://localhost:8080/"
    },
    "id": "LxiST2LWu1RD",
    "outputId": "189a8631-48ea-4915-f95c-a7d8e7ed41d0"
   },
   "outputs": [
    {
     "name": "stdout",
     "output_type": "stream",
     "text": [
      "[[0 2 3 0 5 0]\n",
      " [0 0 0 4 0 0]\n",
      " [0 0 0 0 4 0]\n",
      " [0 0 0 1 0 2]\n",
      " [0 0 0 0 0 5]\n",
      " [0 0 0 0 0 0]]\n"
     ]
    }
   ],
   "source": [
    "import numpy as np\n",
    "\n",
    "graph_array = np.array(\n",
    "#     [S, a, b, c, d, G]\n",
    "    [[ 0, 2, 3, 0, 5, 0], # S\n",
    "     [ 0, 0, 0, 4, 0, 0], # a\n",
    "     [ 0, 0, 0, 0, 4, 0], # b\n",
    "     [ 0, 0, 0, 1, 0, 2], # c\n",
    "     [ 0, 0, 0, 0, 0, 5], # d\n",
    "     [ 0, 0, 0, 0, 0, 0]] # G\n",
    ")\n",
    "\n",
    "print(graph_array)"
   ]
  },
  {
   "cell_type": "markdown",
   "metadata": {
    "id": "CQsf0onpmWgi"
   },
   "source": [
    "隣接行列は分かりやすい方法だが、節点数 $N$ に対して $N^2$ のメモリを必要とする。\n",
    "節点 (node) ごとの枝 (edge) が少ない疎 (sparse) なグラフの場合、隣接リストを用いるとメモリを大幅に節約可能である。"
   ]
  },
  {
   "cell_type": "code",
   "execution_count": 4,
   "metadata": {
    "id": "KdfUkFNRO-1h"
   },
   "outputs": [],
   "source": [
    "graph_list = [\n",
    "              [(1, 2), (2, 3), (4, 5)], # S\n",
    "              [(3, 4)],                 # a\n",
    "              [(4, 4)],                 # b\n",
    "              [(4, 1), (5, 2)],         # c\n",
    "              [(5, 5)],                 # d\n",
    "              []                        # G\n",
    "]"
   ]
  },
  {
   "cell_type": "markdown",
   "metadata": {
    "id": "b9O6X9FrqW-a"
   },
   "source": [
    "問題に合わせてグラフのデータ構造を選択する必要がある。\n",
    "\n",
    "## 探索問題の表現\n",
    "\n",
    "探索問題の定義は、探索グラフ自体の定義に加えて探索の目的を含んだものと言える。以下はグラフを配列で表現した場合の最短経路問題の一例である。"
   ]
  },
  {
   "cell_type": "code",
   "execution_count": 5,
   "metadata": {
    "colab": {
     "base_uri": "https://localhost:8080/"
    },
    "id": "eOEbegTSrBQX",
    "outputId": "05a80750-96fb-41ab-b824-d51c66bb9afc"
   },
   "outputs": [],
   "source": [
    "class Problem1:\n",
    "    def __init__(self, s, g, graph_array):\n",
    "        self.start = s # node S\n",
    "        self.goal = g # node G\n",
    "        self.graph = graph_array\n",
    "\n",
    "prob1 = Problem1(0, 5, graph_array)"
   ]
  },
  {
   "cell_type": "markdown",
   "metadata": {
    "id": "bVwqj45Us-dZ"
   },
   "source": [
    "## 基本的なグラフ探索アルゴリズム\n",
    "\n",
    "### 幅優先探索 (Breadth-First Search, BFS) \n",
    "\n",
    "非常に単純なアルゴリズムである幅優先探索の動作を説明しよう。\n",
    "幅優先探索は、スタートから1段ずつ全ての可能な経路を探索する単純なアルゴリズムである。\n",
    "簡単なアルゴリズムではあるが、実装するためには準備が必要である。\n",
    "まず節点はこの場合、どのようなデータ構造で表現するべきだろうか。\n",
    "以下のコードを見て欲しい。節点を示すクラス Node には state, dist, parent の3つの変数を持たせている。それぞれ以下の意味がある。\n",
    "- state: 節点を一意に特定可能なデータである必要がある。この場合には簡単で、節点に番号を振ってあるので一つの数字で良い。\n",
    "- dist: 探索中に判明したスタートからの距離を保存する変数である。\n",
    "- parent: この節点に到達する直前に訪問された節点である。これを覚えておくと最後に経路を表示する際に便利（直下のコードでは未使用）\n"
   ]
  },
  {
   "cell_type": "code",
   "execution_count": 6,
   "metadata": {
    "id": "Gt88irIEv9C7"
   },
   "outputs": [],
   "source": [
    "class Node:\n",
    "    def __init__(self, state, distance, parent_state):\n",
    "        self.st = state\n",
    "        self.dist = distance\n",
    "        self.par = parent_state\n",
    "\n",
    "\n",
    "    # 以下は、printで表示するための物なのでこのまま真似をしてください\n",
    "    def __str__(self):\n",
    "        return \"id:\" + str(self.st) + \" dist=\" + str(self.dist) + \" par=\" + str(self.par)\n",
    "    \n",
    "    def __repr__(self):\n",
    "        return f'Node({self.st}, {self.dist}, {self.par})'\n"
   ]
  },
  {
   "cell_type": "markdown",
   "metadata": {},
   "source": [
    "上で定義した Node を使って幅優先探索を行う python コードを以下に示す。\n",
    "この探索アルゴリズムは、現在探索されている接点を frontier というリストに保存する。frontier には最初はスタート接点Sのみが入っている（20行目）。\n",
    "frontier は FIFO (First-in Fisrt-out) となっている。\n",
    "このアルゴリズムは、各ステップで、\n",
    "- frontier の先頭の接点を取り出し、かつ除去する (popしている, FIFOの動作, 28行目)\n",
    "- その節点を<span style=\"color:red\">展開 (expand)</span>し、子節点のリストを得る (29行目, expand関数も参照)\n",
    "- 子節点のリストを frontier に追加する (33行目)\n",
    "\n",
    "という動作をする。\n",
    "途中で子節点がゴール節点Gであったら（31〜32行）解を返して終了する。(menuバーの View->Show Line Numbersで行番号を表示できる。）\n"
   ]
  },
  {
   "cell_type": "code",
   "execution_count": 7,
   "metadata": {},
   "outputs": [
    {
     "name": "stdout",
     "output_type": "stream",
     "text": [
      "frontier nodes [Node(0, 0, -1)]\n",
      "frontier nodes [Node(1, 2, 0), Node(2, 3, 0), Node(4, 5, 0)]\n",
      "frontier nodes [Node(2, 3, 0), Node(4, 5, 0), Node(3, 6, 1)]\n",
      "frontier nodes [Node(4, 5, 0), Node(3, 6, 1), Node(4, 7, 2)]\n",
      "search finished. distance to goal is 10\n"
     ]
    }
   ],
   "source": [
    "class BFS:\n",
    "    def __init__(self, problem):\n",
    "        self.prob = problem\n",
    "        self.node_num = self.prob.graph.shape[0]\n",
    "  \n",
    "    def expand(self, node):\n",
    "        # return list of child nodes\n",
    "        child_nodes = []\n",
    "        for c in range(0, self.node_num):\n",
    "            d = self.prob.graph[node.st][c]\n",
    "            if d != 0:\n",
    "                child_nodes.append( Node(c, node.dist + d, node.st) )\n",
    "        return child_nodes\n",
    "    \n",
    "    def search(self):\n",
    "        # this is the start node\n",
    "        # state = 0 (Start node id)\n",
    "        # dist = 0 (0 distance from the start node)\n",
    "        # parent state = -1 (means there is no parent for this node)\n",
    "        start_node = Node(self.prob.start, 0, -1)\n",
    "\n",
    "        if (start_node.st == self.prob.goal): # checking exceptional case, start == goal\n",
    "            return start_node\n",
    "    \n",
    "        frontier = [start_node] # queue (FIFO) of the frontier nodes\n",
    "        print(\"frontier nodes \" + str(frontier))\n",
    "\n",
    "        while len(frontier) != 0:\n",
    "            n = frontier.pop(0)\n",
    "            child_nodes = self.expand(n)\n",
    "            for c in child_nodes:\n",
    "                if c.st == self.prob.goal:\n",
    "                    return c\n",
    "            frontier = frontier + child_nodes\n",
    "            print(\"frontier nodes \" + str(frontier))\n",
    "\n",
    "\n",
    "solver = BFS(prob1)\n",
    "goal_node = solver.search()\n",
    "print (\"search finished. distance to goal is \" + str(goal_node.dist))"
   ]
  },
  {
   "cell_type": "markdown",
   "metadata": {},
   "source": [
    "以上の幅優先探索で一応、ゴール節点Gまでの距離を計算することができた。\n",
    "さて、このアルゴリズムにはいくつか問題がある。\n",
    "\n",
    "まず、この答えは正しいだろうか？\n",
    "念のために言うともちろん正しくない。\n",
    "なぜ間違ったのか説明できるだろうか？\n",
    "\n",
    "さらに動作に無駄がありそうである。\n",
    "各ステップの frontier の内容を示すと以下の表のようになる。\n",
    "\n",
    "| step | frontier |\n",
    "|------|----------|\n",
    "| 0    | S        |\n",
    "| 1    | a b d    |\n",
    "| 2    | b d c    |\n",
    "| 3    | d c d    |\n",
    "| 4    | c d G    |\n",
    "\n",
    "各ステップで左端の節点を取り出し (pop) その子節点を右端に追加している (FIFOの動作)。\n",
    "step 3 を見て欲しい。節点dが2個入っている。\n",
    "これで良いのだろうか？\n",
    "\n",
    "通常、探索アルゴリズムの性質を調べる上で、まず考えることは以下の4つである。\n",
    "\n",
    "1. completeness (解があるなら出力できるか)\n",
    "1. optimality (出力された解は最善か)\n",
    "1. time complexity (求解にどの程度の時間がかかるか)\n",
    "1. memory complexity (メモリ使用量はどの程度か, frontier は最大でどの程度の大きさになるか）\n",
    "\n",
    "上で示したBFSはどうだろうか。\n",
    "まず completeness は満たしているだろうか？今回は解を発見できたが、どんなグラフに対してもそうだろうか？\n",
    "例えばこのグラフについても解を出力するだろうか？\n",
    "\n",
    "<img src=\"fig1-2.png\" width=200>  \n",
    "グラフ2\n",
    "\n",
    "ちょっと引っかけで申し訳ないが、実は解を出力することが可能である。\n",
    "先ほどのBFSは、他の問題はあるにせよ、スタートからゴールへの経路が存在すればそのうちの1つを発見することができる。\n",
    "\n",
    "#### 課題 1-1, Jupyter Notebook の実行と編集の練習\n",
    "\n",
    "> graph_array の定義を変更してグラフ2を表現するようにせよ。\n",
    "> その後、BFSを動作させ、出力を以下に記入せよ。"
   ]
  },
  {
   "cell_type": "markdown",
   "metadata": {},
   "source": [
    "ここは各自自由に編集できる。以下に BFS の出力をペーストせよ。\n",
    "\n",
    "---\n",
    "\n",
    "---"
   ]
  },
  {
   "cell_type": "code",
   "execution_count": 8,
   "metadata": {},
   "outputs": [
    {
     "name": "stdout",
     "output_type": "stream",
     "text": [
      "frontier nodes [Node(0, 0, -1)]\n",
      "frontier nodes [Node(1, 2, 0), Node(2, 3, 0), Node(4, 5, 0)]\n",
      "frontier nodes [Node(2, 3, 0), Node(4, 5, 0), Node(3, 6, 1)]\n",
      "frontier nodes [Node(4, 5, 0), Node(3, 6, 1), Node(4, 7, 2)]\n",
      "search finished. distance to goal is 10\n"
     ]
    }
   ],
   "source": [
    "graph_array2=np.array(\n",
    "#     [S, a, b, c, d, G]\n",
    "    [[ 0, 2, 3, 0, 5, 0], # S\n",
    "     [ 2, 0, 0, 4, 0, 0], # a\n",
    "     [ 0, 0, 0, 0, 4, 0], # b\n",
    "     [ 0, 0, 0, 1, 0, 2], # c\n",
    "     [ 0, 0, 0, 0, 0, 5], # d\n",
    "     [ 0, 0, 0, 0, 0, 0]] # G\n",
    ")\n",
    "prob2 = Problem1(0, 5, graph_array)\n",
    "solver = BFS(prob2)\n",
    "goal_node = solver.search()\n",
    "print (\"search finished. distance to goal is \" + str(goal_node.dist))"
   ]
  },
  {
   "cell_type": "markdown",
   "metadata": {},
   "source": [
    "次の optimality はもちろん満たさない。\n",
    "最短経路は S->a->c->G を通る長さ8 (3 step) の経路だが、\n",
    "このBFSは節点を1段ずつたどるため、より step数が少ない S->d->G の長さ10の経路を先に発見している。\n",
    "\n",
    "Time complexity と Memory complexity はどちらも frontier のサイズが直接関係する。\n",
    "BFSの場合、frontier のサイズはグラフの節点数と比較してどうだろうか。\n",
    "例えば、全ての節点が $b$ 個の子節点を持つようなグラフを探索した場合、\n",
    "frontier の大きさは $ 1 + b^2 + b^3 + ... $ となって、探索深さ $d$ の時点ではオーダーは $b^d$となる。\n",
    "さらに、先ほど示したBFSは、冗長な経路（合流やサイクルなど）を無視しているため問題がさらに大きい。\n",
    "先ほどの step 3 で節点 d が複数あったことを思い出して欲しい。\n",
    "例えば 2D-grid で最短経路を探索する場合、過去に訪問した節点を何度も訪問すると frontier の大きさは非常に大きくなってしまう。\n",
    "\n",
    "### 深さ優先探索 (Depth-First Search, DFS)\n",
    "\n",
    "次に、少しBFSと性質の違うアルゴリズムを紹介する。\n",
    "先ほどのBFSは全ての節点を1段展開していく動作をする。\n",
    "なので探索<span style=\"color:red\">深さ</span>3にあったS->a->c->Gの経路ではなくより浅い深さ2の S->d->G の経路を出力した。\n",
    "1段ずつ展開するのではなく、まずそのままできるだけ深く潜るアルゴリズムを考える。\n",
    "これを深さ優先探索という。"
   ]
  },
  {
   "cell_type": "code",
   "execution_count": 9,
   "metadata": {},
   "outputs": [
    {
     "name": "stdout",
     "output_type": "stream",
     "text": [
      "frontier nodes [Node(0, 0, -1)]\n",
      "frontier nodes [Node(1, 2, 0), Node(2, 3, 0), Node(4, 5, 0)]\n",
      "frontier nodes [Node(3, 6, 1), Node(2, 3, 0), Node(4, 5, 0)]\n",
      "search finished. distance to goal is 8\n"
     ]
    }
   ],
   "source": [
    "class DFS:\n",
    "    def __init__(self, problem):\n",
    "        self.prob = problem\n",
    "        self.node_num = self.prob.graph.shape[0]\n",
    "  \n",
    "    def expand(self, node):\n",
    "        # return list of child nodes\n",
    "        child_nodes = []\n",
    "        for c in range(0, self.node_num):\n",
    "            d = self.prob.graph[node.st][c]\n",
    "            if d != 0:\n",
    "                child_nodes.append( Node(c, node.dist + d, node.st) )\n",
    "        return child_nodes\n",
    "    \n",
    "    def search(self):\n",
    "        # this is the start node\n",
    "        # state = 0 (Start node id)\n",
    "        # dist = 0 (0 distance from the start node)\n",
    "        # parent state = -1 (means there is no parent for this node)\n",
    "        start_node = Node(self.prob.start, 0, -1)\n",
    "\n",
    "        if (start_node.st == self.prob.goal): # checking exceptional case, start == goal\n",
    "            return start_node\n",
    "    \n",
    "        frontier = [start_node] # stack (LIFO) of the frontier nodes\n",
    "        print(\"frontier nodes \" + str(frontier))\n",
    "\n",
    "        while len(frontier) != 0:\n",
    "            n = frontier.pop(0)\n",
    "            child_nodes = self.expand(n)\n",
    "            for c in child_nodes:\n",
    "                if c.st == self.prob.goal:\n",
    "                    return c\n",
    "            frontier = child_nodes + frontier\n",
    "            print(\"frontier nodes \" + str(frontier))\n",
    "\n",
    "\n",
    "solver = DFS(prob1)\n",
    "goal_node = solver.search()\n",
    "print (\"search finished. distance to goal is \" + str(goal_node.dist))"
   ]
  },
  {
   "cell_type": "markdown",
   "metadata": {},
   "source": [
    "先ほどのBFSとは違う解が得られた。なぜだろうか。また、BFSと非常によく似ているが、どこが違うのだろうか？\n",
    "\n",
    "DFSの探索順序はBFSと異なり、まず一直線にできるだけ深く探索を行う。\n",
    "aが一番先に展開されていたため、S->a->cと進み、そこでcの子節点にGが含まれていたので最短経路が発見された。\n",
    "BFSとは動作が全く異なるが、実はコードは33行目の1箇所しか変更されていない。\n",
    "BFSの時はfrontierを queue (First-In First-Out) として処理したが、\n",
    "DFSではfrontierが stack (Last-In First-Out) となっている。\n",
    "これだけの違いである。\n",
    "\n",
    "DFSの場合は以下の性質を満たしているだろうか。\n",
    "1. completeness (解があるなら出力できるか)\n",
    "1. optimality (出力された解は最善か)\n",
    "1. time complexity (求解にどの程度の時間がかかるか)\n",
    "1. memory complexity (メモリ使用量はどの程度か, frontier は最大でどの程度の大きさになるか）\n",
    "\n",
    "このDFSは残念ながらグラフにサイクルがあると無限ループしてしまう。\n",
    "また、今回は偶然最善解を発見したが、一般にはその保証は全く無い。\n",
    "Time complexity は評価が難しいが、運が良ければ解を早く見つけることもある。\n",
    "最後の点はどうだろうか。\n",
    "実はこれがDFSの利点であって、frontierのサイズは探索深さ$d$対して比例する程度に押さえられる。\n",
    "先ほどBFSのところで紹介した、全ての節点が$b$個の子節点を持つようなグラフを探索すると\n",
    "深さ$d$の時点での frontier のサイズは $bd$ 個になる。\n",
    "\n",
    "\n",
    "### 反復深化深さ優先探索 (Iterative Deepening DFS)\n",
    "\n",
    "DFSの利点が不明確なように見えないだろうか。\n",
    "メモリ使用量は小さいが、そもそも解を発見できる保証もなく、計算時間も不安定なのでは\n",
    "何のために存在するのか。実はDFSは重要なテクニックなのだが、ここでは\n",
    "一つ非常に簡単な工夫を紹介する。\n",
    "それが反復深化という方法である。\n",
    "DFSを実行する際に、まず最大深さ $d$ までで探索を諦めるようにする。\n",
    "（以下のコードではその場合に None を返している。）\n",
    "深さ $d$ で解が発見できなければ $d+1$ まで探索する。\n",
    "このようにして徐々に最大深さを増やしていき、解が発見されたところで終了する。\n",
    "この方法は memory complexity が非常に小さく、\n",
    "またBFSと同等の解を発見することができる。\n",
    "\n",
    "非常に無駄なことをしているように見えるかも知れないが、探索空間によってはそうでもない。\n",
    "もし深さが1増える毎に節点の個数が $b$ 倍になる場合、\n",
    "一番時間がかかるのは最後の1回だからだ。\n",
    "\n",
    "#### ちょっと質問\n",
    "\n",
    "以下のコード例は明示的な frontier のリストを持たない。\n",
    "また、ループではなく iter 関数を再帰呼び出しすることで探索を実行している。\n",
    "しかし上記では frontier のサイズは $bd$ 個と言う説明をした。\n",
    "どこにこれが保存されているのか説明できるだろうか？"
   ]
  },
  {
   "cell_type": "code",
   "execution_count": 10,
   "metadata": {},
   "outputs": [
    {
     "name": "stdout",
     "output_type": "stream",
     "text": [
      "max_depth:0\n",
      "max_depth:1\n",
      "[Node(1, 2, 0), Node(2, 3, 0), Node(4, 5, 0)]\n",
      "max_depth:2\n",
      "[Node(1, 2, 0), Node(2, 3, 0), Node(4, 5, 0)]\n",
      "[Node(3, 6, 1)]\n",
      "[Node(4, 7, 2)]\n",
      "[Node(5, 10, 4)]\n",
      "search finished. distance to goal is 10\n"
     ]
    }
   ],
   "source": [
    "class ID_DFS:\n",
    "    def __init__(self, problem):\n",
    "        self.prob = problem\n",
    "        self.node_num = self.prob.graph.shape[0]\n",
    "  \n",
    "    def expand(self, node):\n",
    "        # return list of child nodes\n",
    "        child_nodes = []\n",
    "        for c in range(0, self.node_num):\n",
    "            d = self.prob.graph[node.st][c]\n",
    "            if d != 0:\n",
    "                child_nodes.append( Node(c, node.dist + d, node.st) )\n",
    "        return child_nodes\n",
    "\n",
    "    def iter(self, node, depth, max_depth):\n",
    "        if node.st == self.prob.goal:\n",
    "            return node\n",
    "        if depth >= max_depth:\n",
    "            return None\n",
    "        child_nodes = self.expand(node)\n",
    "        print(child_nodes)\n",
    "        ret = None\n",
    "        for c in child_nodes:\n",
    "            found = self.iter(c, depth+1, max_depth)\n",
    "            if found != None:\n",
    "                ret = found\n",
    "        return ret\n",
    "    \n",
    "    def search(self):\n",
    "        # this is the start node\n",
    "        # state = 0 (Start node id)\n",
    "        # dist = 0 (0 distance from the start node)\n",
    "        # parent state = -1 (means there is no parent for this node)\n",
    "        start_node = Node(self.prob.start, 0, -1)\n",
    "\n",
    "        if (start_node.st == self.prob.goal): # checking exceptional case, start == goal\n",
    "            return start_node\n",
    "\n",
    "        max_depth = 0\n",
    "        while True:\n",
    "            print (\"max_depth:\" + str(max_depth))\n",
    "            found = self.iter(start_node, 0, max_depth)\n",
    "            if found != None:\n",
    "                return found\n",
    "            max_depth += 1\n",
    "\n",
    "solver = ID_DFS(prob1)\n",
    "goal_node = solver.search()\n",
    "print (\"search finished. distance to goal is \" + str(goal_node.dist))\n",
    "\n"
   ]
  },
  {
   "cell_type": "markdown",
   "metadata": {},
   "source": [
    "#### 課題1-2 リスト形式でBFSを実装（Pythonの復習をかねて）\n",
    "\n",
    "---\n",
    "以下のコードの expand 関数のコメント部分を実装し、リスト形式で表現されたグラフに対してBFSを実装せよ。\n",
    "graph_list の定義は冒頭にある。（以下のセルを直接編集しても良い。）\n",
    "\n",
    "または Python, C++ などの言語で同等のコードを実装し、ソースコードを提出せよ。\n",
    "\n",
    "---"
   ]
  },
  {
   "cell_type": "code",
   "execution_count": 14,
   "metadata": {},
   "outputs": [
    {
     "name": "stdout",
     "output_type": "stream",
     "text": [
      "frontier nodes [Node(1, 2, 0), Node(2, 3, 0), Node(4, 5, 0)]\n",
      "frontier nodes [Node(2, 3, 0), Node(4, 5, 0), Node(3, 6, 1)]\n",
      "frontier nodes [Node(4, 5, 0), Node(3, 6, 1), Node(4, 7, 2)]\n",
      "search finished. distance to goal is 10\n"
     ]
    }
   ],
   "source": [
    "class Problem2:\n",
    "    def __init__(self):\n",
    "        self.start = 0 # node S\n",
    "        self.goal = 5 # node G\n",
    "        self.graph = graph_list\n",
    "\n",
    "        \n",
    "class BFS2:\n",
    "    def __init__(self, problem):\n",
    "        self.prob = problem\n",
    "        self.node_num = len(self.prob.graph)\n",
    "  \n",
    "    def expand(self, problem, node):\n",
    "        # return list of child nodes\n",
    "        child_nodes = []\n",
    "        for c in problem.graph[node.st]:\n",
    "            child_nodes.append(Node(c[0],node.dist+c[1],node.st))\n",
    "        return child_nodes\n",
    "    \n",
    "    def search(self):\n",
    "        # this is the start node\n",
    "        # state = 0 (Start node id)\n",
    "        # dist = 0 (0 distance from the start node)\n",
    "        # parent state = -1 (means there is no parent for this node)\n",
    "        start_node = Node(self.prob.start, 0, -1)\n",
    "\n",
    "        if (start_node.st == self.prob.goal): # checking exceptional case, start == goal\n",
    "            return start_node\n",
    "    \n",
    "        frontier = [start_node] # queue (FIFO) of the frontier nodes\n",
    "\n",
    "        while len(frontier) != 0:\n",
    "            n = frontier.pop(0)\n",
    "            child_nodes = self.expand(self.prob, n)\n",
    "            for c in child_nodes:\n",
    "                if c.st == self.prob.goal:\n",
    "                    return c\n",
    "            frontier = frontier + child_nodes\n",
    "            print(\"frontier nodes \" + str(frontier))\n",
    "\n",
    "prob2 = Problem2()\n",
    "bfs = BFS2(prob2)\n",
    "goal_node = bfs.search()\n",
    "print (\"search finished. distance to goal is \" + str(goal_node.dist))"
   ]
  },
  {
   "cell_type": "markdown",
   "metadata": {},
   "source": [
    "\n",
    "ここまでの教訓はいくつかある。\n",
    "\n",
    "- BFSは complete (解が存在するなら発見する) が、メモリ使用量が大きい\n",
    "- DFSはサイクルがあるなどすると解を発見できないので complete ではない。メモリ使用量は少ない。\n",
    "- Iterative Deepening DFS はメモリ使用量は少ないが、BFSと同等の解を発見する能力がある。\n",
    "\n",
    "未解決なのは冗長な経路（合流）への対処である。\n",
    "これがないと同じ節点を何回も探索する（同じ節点を再展開する）\n",
    "ことになって時間もメモリも大変に無駄にしてしまう。\n",
    "皆さんご存じの Dijkstra 法や\"A*\"探索は無駄な再展開をしない。\n",
    "詳しくは次回以降説明する。\n",
    "\n",
    "念のため、2D gridで再展開がどれだけ無駄か動作例を見てみよう。\n",
    "（デモ）\n",
    "\n",
    "## 状態空間について\n",
    "\n",
    "グラフ探索では節点のことを状態と考えて、\n",
    "探索される範囲全体を状態空間 (state space) や探索空間 (search space) と呼ぶことがある。\n",
    "例えば先ほどから題材にしていた小さいグラフの状態空間は6個の節点からなり、\n",
    "状態空間の大きさは6である、などと言う。\n",
    "探索アルゴリズムの効率を考えるなら、6回節点を探索したら解を得られるとありがたい。\n",
    "アルゴリズムの多くはその性質を満たしている。\n",
    "そこで、状態空間の大きさを見積もることでグラフ探索問題の難しさをある程度、見積もることができる。\n",
    "\n",
    "\n",
    "### 節点の表現方法について\n",
    "\n",
    "先ほどグラフの例では6個であった。よって Node の定義の中の state は $ 0...5 $ の数字で現せば良かった。\n",
    "少し問題が複雑になると状態の表現方法も少し考える必要がある。\n",
    "例えば 8-puzzle の状態空間はどのようなデータ構造で表現できるだろうか。\n",
    "また状態空間の大きさはどの程度だろうか。\n",
    "\n",
    "<img src=\"fig1-3.png\" width=400>  \n",
    "\n",
    "以下はあくまで一例だが、9個の数字を用いた以下のような定義が考えられる。\n",
    "図の一番上の盤面を示した例である。0が空白の場所を示す。\n",
    "\n",
    "```python\n",
    "[1, 2, 3, 4, 6, 0, 7, 5, 8]\n",
    "```\n",
    "\n",
    "状態空間の数は $ 9! $ と思うかも知れないが、実は偶奇性により\n",
    "絶対に完成できない状態が半分存在するので $ 9! / 2 = 181440 $ 個である。\n",
    "\n",
    "\n",
    "#### 課題 1-3 ハノイの塔\n",
    "\n",
    "円盤が4個の場合のハノイの塔について考える。（ハノイの塔のルールが分からない場合は wikipedia などで調べよ。）\n",
    "- 節点の状態をどのようなデータ構造で表現するべきか、案を示せ。\n",
    "- ハノイの塔（円盤4枚）の場合、状態空間の大きさはどの程度か\n",
    "\n",
    "<img src=\"fig1-4.png\" width=300>  \n",
    "\n",
    "回答欄に記入せよ。"
   ]
  },
  {
   "cell_type": "markdown",
   "metadata": {},
   "source": [
    "以下、課題1-3回答欄"
   ]
  },
  {
   "cell_type": "markdown",
   "metadata": {},
   "source": [
    "参考文献\n",
    "- \"Artificial Intelligence: A Modern Approach, 4th Global ed.\", by Stuart Russell and Peter Norvig  \n",
    "   http://aima.cs.berkeley.edu/index.html\n",
    "- \"ヒューリスティック探索入門\", 陣内 佑  \n",
    "   https://jinnaiyuu.github.io/pdf/textbook.pdf"
   ]
  },
  {
   "cell_type": "code",
   "execution_count": 18,
   "metadata": {},
   "outputs": [],
   "source": [
    "# 3 stacks(start,middle,end) \n",
    "# start : stack_start=[4,3,2,1]\n",
    "# target : stack_end=[4,3,2,1]\n",
    "class hannoi_stack:\n",
    "    def __init__(self,stack):\n",
    "        self.stack=stack\n",
    "        self.last=stack[-1]\n",
    "    \n",
    "    def limit_append(self,num):\n",
    "        if num>self.last:\n",
    "            return False\n",
    "        else:\n",
    "            self.stack.append(num)\n",
    "            self.last=num\n",
    "            return True\n",
    "        \n",
    "# 状態空間の大きさ : 3+3*2*(4+6)+6*6=99"
   ]
  }
 ],
 "metadata": {
  "colab": {
   "collapsed_sections": [],
   "name": "gs01_test01.ipynb",
   "provenance": []
  },
  "kernelspec": {
   "display_name": "Python 3 (ipykernel)",
   "language": "python",
   "name": "python3"
  },
  "language_info": {
   "codemirror_mode": {
    "name": "ipython",
    "version": 3
   },
   "file_extension": ".py",
   "mimetype": "text/x-python",
   "name": "python",
   "nbconvert_exporter": "python",
   "pygments_lexer": "ipython3",
   "version": "3.8.13"
  },
  "toc-showtags": false
 },
 "nbformat": 4,
 "nbformat_minor": 4
}
