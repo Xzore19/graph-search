{
 "cells": [
  {
   "cell_type": "markdown",
   "id": "13311399-0b4c-4c22-863d-82e2f0642d02",
   "metadata": {
    "tags": []
   },
   "source": [
    "# 第8回 Monte-Carlo Tree Search 1\n",
    "\n",
    "## グラフ探索アルゴリズムI 振り返り\n",
    "\n",
    "第1回〜第7回の講義では、基本的なグラフ探索アルゴリズムを紹介し、\n",
    "最短経路問題やパズルなどで動作するコードの書き方を身につけてもらった。\n",
    "特に後半にかけて、探索対象となる状態空間が大きく、全てを探索することができない場合に\n",
    "**ヒューリスティック関数** を用いることで\n",
    "探索を大幅に高速化できることを示した。\n",
    "A\\*探索を優秀なヒューリスティック関数を組み合わせることで、実際に多くの問題を高速に解くことができる。\n",
    "\n",
    "さらにヒューリスティック関数を作成する方法についてもある程度説明した。\n",
    "また、2人ゼロ和完全情報ゲームにおいても、Alpha-Beta探索と**評価関数**を用いることで\n",
    "多くの場合に人間を超える強さを達成できるということも話題として紹介した。\n",
    "\n",
    "しかし何らかの実問題を解く際に、講義で示した例の様に良いヒューリスティック関数を作成できるとは限らない。\n",
    "あるいは仮に作成可能であっても長期間の試行錯誤が必要な場合もある。\n",
    "例えばチェスや将棋では良い評価関数が得られるまでにある程度の年月の研究を必要とした。\n",
    "\n",
    "可能であるならばヒューリスティック関数や評価関数なしでも探索をしたい。\n",
    "あるいは、機械学習を用いて作成した評価関数で探索をしたい。\n",
    "A\\* 探索は非常に優秀なアルゴリズムだが、この点は問題がある。\n",
    "（許容性や単調性を無視すれば可能なので、実用上はある程度動くが。）\n",
    "そのような要望にある程度応えるのが、\n",
    "**モンテカルロ木探索 Monte-Carlo Tree Search (MCTS)** である。"
   ]
  },
  {
   "cell_type": "markdown",
   "id": "a465db7f-3817-4cf2-a67c-53da3a582c5e",
   "metadata": {},
   "source": [
    "## 初期のモンテカルロ囲碁\n",
    "\n",
    "このアルゴリズムはコンピュータ囲碁の研究から生まれた。\n",
    "囲碁は評価関数を作成することが非常に困難なゲームとして知られており、\n",
    "他の2人ゼロ和完全情報ゲームで用いられていた Alpha-Beta 探索とは異なる手法が必要だったためである。\n",
    "まず、初期の非常に単純なアイデアから紹介しよう。\n",
    "\n",
    "### 単純なモンテカルロ法\n",
    "\n",
    "Monte-Carlo はモナコにある有名なカジノの名前だが、乱数を使うアルゴリズムの名称としてよく使われる。\n",
    "説明のためによく使われる簡単な例として、円の面積や円周率を求めるという例がある。\n",
    "以下の様に乱数で点を打ち、円の内部と外部の点の個数の比率から円の面積の近似を求めることができる。\n",
    "（もちろん、これは説明のための例であって、実際には非常に効率が悪い方法である。）"
   ]
  },
  {
   "cell_type": "code",
   "execution_count": 41,
   "id": "a841ff05-968d-46e9-8a91-f530739d28d3",
   "metadata": {},
   "outputs": [
    {
     "data": {
      "image/png": "[encoded data removed]",
      "text/plain": [
       "<Figure size 288x288 with 1 Axes>"
      ]
     },
     "metadata": {
      "needs_background": "light"
     },
     "output_type": "display_data"
    }
   ],
   "source": [
    "# crude Monte-Carlo\n",
    "%matplotlib inline\n",
    "from pdb import set_trace as st\n",
    "import numpy as np\n",
    "import matplotlib.pyplot as plt\n",
    "from matplotlib import patches\n",
    "\n",
    "fig, ax = plt.subplots(figsize=(4,4))\n",
    "ax.set_xticks([0, 1])\n",
    "ax.set_yticks([0, 1])\n",
    "ax.grid()\n",
    "ax.set_xlim([0,1])\n",
    "ax.set_ylim([0,1])\n",
    "\n",
    "a = patches.Arc( (0,0), 2, 2, theta1=0, theta2=90, edgecolor=\"red\")\n",
    "ax.add_patch(a)\n",
    "\n",
    "nu_points = 1000\n",
    "x = np.random.rand(nu_points)\n",
    "y = np.random.rand(nu_points)\n",
    "plt.scatter(x, y, s=1)\n",
    "\n",
    "plt.show()"
   ]
  },
  {
   "cell_type": "markdown",
   "id": "cdafd5a8-146d-436c-a3af-eab666c3737b",
   "metadata": {},
   "source": [
    "### サンプリングによる探索 （原始モンテカルロ囲碁）\n",
    "\n",
    "上記のような乱数によるサンプリングを用いてゲームをプレイさせようという考え方がある。\n",
    "囲碁、オセロ、3目並べなどのゲームでは、盤面が段々埋まっていくので、ランダムに手を選んでプレイさせてもルール通り終局する。\n",
    "（囲碁の場合は「目」を残すという制約が必要。）\n",
    "\n",
    "<img src=\"playout.png\" width=600>\n",
    "\n",
    "乱数を用いて何らかのスコアを計算することを通常は**simulation**と呼ぶが、\n",
    "ゲームや機械学習の分野ではこのように1回終局まで手順を進めてみることを **Rollout** や **Playout** と呼ぶ。\n",
    "この図では、ある局面から3回の Rollout を行い、黒から見て2勝1敗の結果を得た。\n",
    "勝率 0.66 ということで少し黒が有利なのかも知れない。\n",
    "\n",
    "<img src=\"simple_mcgo.png\" width=600>\n",
    "\n",
    "これを元に、全ての候補手についてある程度の回数の Rollout を実行し、勝率最大の手を選ぶという\n",
    "方法が考えられる。\n",
    "この方法で、実際に動作する囲碁プログラムを作成することができる。\n",
    "これを仮に**原始モンテカルロ囲碁**と呼ぶことにする。\n",
    "\n",
    "> B. Brügmann, \"Monte Carlo Go\", 1993\n"
   ]
  },
  {
   "cell_type": "markdown",
   "id": "0599e217-aa88-4889-b786-447fc37ef54f",
   "metadata": {},
   "source": [
    "## 原始モンテカルロ囲碁を改良する\n",
    "\n",
    "上で示した原始モンテカルロ囲碁の図では、\n",
    "全ての候補手から同じ回数だけ Rollout を実行していた。\n",
    "しかしこれは無駄ではないだろうか。\n",
    "統計的に見て、明らかに悪い選択肢から Rollout を行う回数を減らして\n",
    "より良い選択肢に計算資源を集中すれば、少ない Rollout の回数で正確に最善手が求められるはずである。\n",
    "では、どのような基準でより良い選択肢を選べば良いだろうか。\n",
    "\n",
    "<img src=\"better_mcgo.png\" width=300>\n",
    "\n",
    "\n",
    "### 単純に勝率最大の手を選ぶ場合\n",
    "\n",
    "目的を考えると、勝率が良い選択肢を優遇するべきである。\n",
    "しかし、これはそれほど簡単では無い。以下の図を見てみよう。\n",
    "\n",
    "<img src=\"select_best_move.png\" width=600>\n",
    "\n",
    "例えば3勝2敗の選択肢と2勝3敗の選択肢なら、3勝2敗の方が良さそうだ。\n",
    "だが良い手を優遇しようとすると Rollout の回数に不均衡が出てくる。\n",
    "例えば、50勝50敗の選択肢と0勝1敗の選択肢があったとして、どちらを選ぶべきだろうか？\n",
    "0勝1敗の選択肢は、実際には勝率が0.5より高いのに運が悪く最初の1回の Rollout で負けてしまった可能性がある。\n",
    "どちらの選択肢を選ぶべきかどうか、自明では無い。\n",
    "\n",
    "### バンディット問題のアルゴリズムの定義\n",
    "\n",
    "上記の問題は **Multi-Armed Bandit 問題** の一種として定式化することができる。\n",
    "\n",
    "<img src=\"bandit.png\" width=400>\n",
    "\n",
    "スロットマシーンのことを \"one-armed bandit\" と呼ぶことがある。\n",
    "ここで出てきた \"multi-armed bandit\" は空想上の存在で、腕が複数あるスロットマシーンのことを意味する。\n",
    "（図ではスロットマシーン自体が複数あるように画いている。）\n",
    "この問題の定義は以下の様になる。\n",
    "\n",
    "> それぞれの腕は、ある確率分布に従って報酬を返す。手持ちのコインを使ってできるだけ多くの報酬を得よ。\n",
    "\n",
    "この問題には、今のところ報酬が一番良さそうな腕を引くか、あるいは報酬がまだ不明な腕を引くかどちらを\n",
    "選ぶべきかというジレンマがある。\n",
    "これを **exploration-exploitation ジレンマ** と呼ぶ。\n",
    "（日本語訳は「探査と搾取のジレンマ」「探索と利用のジレンマ」など色々あるので英語を覚えよう。）\n",
    "\n",
    "Multi-Armed Bandit を略して**バンディット問題**と言われることもある。\n",
    "これは古くから現代まで研究されている問題であり、\n",
    "たとえば農作物として何を植えるべきか（報酬は数ヶ月後）、あるいはWeb広告として何を表示すべきか（報酬は数秒後）\n",
    "など様々な問題をバンディット問題として捕らえることができる。\n",
    "さらに機械学習（特に強化学習）にも深い関係がある。\n",
    "\n",
    "### バンディット問題のアルゴリズム\n",
    "\n",
    "具体的にはどのようなアルゴリズムがあるのか、ここでは2つ紹介しよう。\n",
    "\n",
    "#### $\\epsilon$-greedy \n",
    "\n",
    "これは確率 $1-\\epsilon$ で期待値が最大の選択肢を選び、\n",
    "確率 $\\epsilon$ で残りの選択肢からランダムに選ぶという方法である。\n",
    "$\\epsilon$は0.1などの定数にすることもあるし、動的に調整することもある。\n",
    "当然だが、 $\\epsilon$ が大きすぎると無駄な exploration を行うが\n",
    "小さすぎると最善の候補手を見逃す可能性がある。\n",
    "\n",
    "#### UCB1 (Upper-Confidence Bound)\n",
    "\n",
    "UCB1は以下の論文で提案された手法の一つである。\n",
    "$i$番目の腕について、投入されたコインが$s_i$枚で報酬の累積が$w_i$としよう。\n",
    "また、コインの合計 $t = \\Sigma s_i$ とする。\n",
    "UCB1は、以下の式が最大となる腕を引く方法である。\n",
    "\n",
    "$ \\frac{w_i}{s_i} + C \\sqrt{ \\frac{2 \\ln t}{s_i} }$\n",
    "\n",
    "ここで、$C$は何らかの定数である。報酬の値域が $[0,1]$ ならば、以下の証明が成立するためには $C=1$ で良い。\n",
    "実際には$C$は分布の様子を見てもっと小さい値に設定されることが多い。\n",
    "定数$C$は探索の割合をコントロールするものなので **exploration constant** と呼ぶことがある。\n",
    "\n",
    "最善の選択肢だけを選び続けた場合に得られる最善の累積報酬と、\n",
    "ある手法に従って得られる報酬の差の期待値を **累積レグレット (cumulative regret)** と呼ぶ。\n",
    "UCT1は累積レグレットのオーダーを最小化することが証明されている。\n",
    "あるいは、コインの総数$t$が無限大に近づいた場合、最善でない腕を引く割合がゼロに近づくという証明がある。\n",
    "\n",
    "> Auer, Cesa-Bianchi, Fischer, \"Finite-time Analysis of the Multiarmed Bandit Problem,\" Machine Learning, Vol. 47, 2002.\n",
    "\n",
    "### この手法の強さ\n",
    "\n",
    "念のため、ここまでの手法に従って囲碁プログラムなどを作るとかなり弱い。\n",
    "ただ弱いだけではなく、無限に計算時間を費やしても最善手を求めることができない。\n",
    "Monte-Carlo Tree Search はこの問題を解決する。\n",
    "次回は、ここで紹介した手法を元に MCTS を実装する。"
   ]
  },
  {
   "cell_type": "markdown",
   "id": "6a4cb9b0-550f-49e6-9782-f82a751f1784",
   "metadata": {},
   "source": [
    "## 第8回課題\n",
    "\n",
    "- 8-1. 【なぜ弱い？】 上記の原始モンテカルロ囲碁や、最善手で集中的に Rollout を行う方法はなぜ弱いのか、考察せよ。\n",
    "- 8-2. 【バンディット問題】 一様分布に基づいて報酬を返す「腕」を何本か用意し、$\\epsilon$-greedy か UCB1 （あるいは両方）で腕を選ぶ方法を実装し、\n",
    "    動作を観察せよ。腕の報酬の分布を近づけてみたり、$\\epsilon$ や UCB1 の定数 $C$ を変化させて違いを観察せよ。\n",
    "- 8-3. 【3目並べRollout】 3目並べについて、適当な局面から playout (rollout) をするプログラムを作成し、適当な回数 playout を実行して報酬を計算せよ。\n",
    "    報酬としては、手番プレイヤーの勝/負/引き分けに対して、 +1/-1/0 あるいは +1/0/0.5 などと適当に定義せよ。以下のコードを参考にしても良い。\n",
    "- 8-4. 【原始モンテカルロ3目並べ】 3目並べについて、適当な盤面から、全ての候補手に対して playout を10回行って報酬が最大となる手を選ぶプログラムを作成せよ。\n",
    "    また、 playout 回数を100回などに増やして最善手を選ぶ確率が上がるかどうか観察せよ。\n",
    "- 8-5. (発展課題) 【原始モンテカルロ4目並べ】 重力付き4目並べ （Connect Four) について、 8-2, 8-3 と同様に playout を実装し、それを元に報酬が最大となる手を選ぶプログラムを作成せよ。\n",
    "\n",
    "### 課題の補足\n",
    "\n",
    "8-1. バンディット問題について。\n",
    "以下の1行は Jupyter Notebook で Matplotlib ライブラリを使って図を表示するためのものである。\n",
    "```Python\n",
    "%matplotlib inline\n",
    "```\n",
    "また、numpy.random.random によって $[0,1)$ の一様乱数を生成している。\n"
   ]
  },
  {
   "cell_type": "markdown",
   "id": "9354b111-527b-4f9a-8aa5-1d30b389dc8c",
   "metadata": {},
   "source": [
    "# 課題1  \n",
    "Since only the win rate is seen, branches with lower win rates cannot be tested enough, and each node is overly dependent on the first payoff. This leads to extreme cases of Monte-Carlo Tree search results, where some branches are searched all the time, and some branches are searched only once."
   ]
  },
  {
   "cell_type": "markdown",
   "id": "46789d51-e138-433e-a3d5-90eef3e64658",
   "metadata": {},
   "source": [
    "# 課題2   \n"
   ]
  },
  {
   "cell_type": "code",
   "execution_count": 44,
   "id": "5e7a31ee-a289-4790-bd41-3ed4d89e6b96",
   "metadata": {},
   "outputs": [
    {
     "name": "stdout",
     "output_type": "stream",
     "text": [
      "e-greedy\n",
      "e=0.1\n",
      "[['g', 0], ['g', 0], ['g', 0], ['g', 0], ['g', 0], ['g', 0], ['g', 0], ['g', 0], ['g', 0], ['g', 0], ['r', 3], ['g', 0], ['g', 0], ['g', 0], ['g', 0], ['g', 0], ['r', 1], ['g', 0], ['g', 0], ['g', 0], ['g', 0], ['g', 0], ['g', 0], ['g', 0], ['g', 0], ['g', 0], ['g', 0], ['g', 0], ['g', 0], ['g', 0], ['g', 0], ['g', 0], ['g', 0], ['g', 0], ['g', 0], ['g', 0], ['g', 0], ['r', 3], ['g', 0], ['g', 0], ['g', 0], ['g', 0], ['g', 0], ['g', 0], ['r', 2], ['g', 0], ['g', 0], ['g', 0], ['g', 0], ['g', 0]]\n",
      "total_reward:  26\n"
     ]
    },
    {
     "data": {
      "image/png": "[encoded data removed]",
      "text/plain": [
       "<Figure size 432x288 with 1 Axes>"
      ]
     },
     "metadata": {
      "needs_background": "light"
     },
     "output_type": "display_data"
    },
    {
     "name": "stdout",
     "output_type": "stream",
     "text": [
      "e=0.5\n",
      "[['g', 0], ['r', 1], ['r', 1], ['r', 2], ['g', 2], ['r', 1], ['r', 0], ['g', 2], ['r', 0], ['g', 2], ['g', 2], ['r', 2], ['g', 2], ['g', 2], ['g', 2], ['r', 0], ['r', 1], ['r', 0], ['g', 2], ['r', 2], ['r', 1], ['g', 2], ['r', 3], ['g', 2], ['g', 2], ['r', 0], ['r', 0], ['r', 0], ['r', 2], ['r', 1], ['r', 2], ['r', 0], ['g', 2], ['r', 2], ['g', 2], ['r', 3], ['r', 3], ['g', 2], ['r', 3], ['g', 2], ['r', 2], ['g', 2], ['g', 2], ['r', 1], ['r', 1], ['r', 0], ['r', 2], ['g', 2], ['r', 3], ['r', 1]]\n",
      "total_reward:  34\n"
     ]
    },
    {
     "data": {
      "image/png": "[encoded data removed]",
      "text/plain": [
       "<Figure size 432x288 with 1 Axes>"
      ]
     },
     "metadata": {
      "needs_background": "light"
     },
     "output_type": "display_data"
    },
    {
     "name": "stdout",
     "output_type": "stream",
     "text": [
      "e=0.9\n",
      "[['r', 2], ['r', 0], ['g', 2], ['r', 0], ['g', 2], ['r', 0], ['r', 3], ['r', 3], ['r', 1], ['r', 3], ['r', 3], ['r', 1], ['r', 2], ['g', 3], ['r', 3], ['r', 0], ['r', 0], ['r', 2], ['r', 2], ['r', 3], ['r', 2], ['r', 0], ['r', 0], ['r', 1], ['r', 3], ['r', 2], ['r', 2], ['r', 0], ['r', 2], ['r', 3], ['r', 3], ['r', 1], ['r', 0], ['r', 2], ['r', 3], ['r', 2], ['r', 3], ['r', 1], ['r', 0], ['r', 3], ['r', 1], ['r', 0], ['g', 3], ['r', 3], ['g', 3], ['r', 1], ['r', 0], ['r', 2], ['r', 0], ['r', 3]]\n",
      "total_reward:  34\n"
     ]
    },
    {
     "data": {
      "image/png": "[encoded data removed]",
      "text/plain": [
       "<Figure size 432x288 with 1 Axes>"
      ]
     },
     "metadata": {
      "needs_background": "light"
     },
     "output_type": "display_data"
    },
    {
     "name": "stdout",
     "output_type": "stream",
     "text": [
      "UCB\n",
      "c=0.1\n",
      "[['ucb', 0], ['ucb', 1], ['ucb', 2], ['ucb', 2], ['ucb', 2], ['ucb', 2], ['ucb', 2], ['ucb', 2], ['ucb', 2], ['ucb', 2], ['ucb', 2], ['ucb', 2], ['ucb', 2], ['ucb', 2], ['ucb', 2], ['ucb', 2], ['ucb', 2], ['ucb', 2], ['ucb', 2], ['ucb', 2], ['ucb', 2], ['ucb', 2], ['ucb', 2], ['ucb', 2], ['ucb', 2], ['ucb', 2], ['ucb', 2], ['ucb', 2], ['ucb', 2], ['ucb', 2], ['ucb', 2], ['ucb', 2], ['ucb', 2], ['ucb', 2], ['ucb', 2], ['ucb', 2], ['ucb', 2], ['ucb', 2], ['ucb', 2], ['ucb', 2], ['ucb', 2], ['ucb', 2], ['ucb', 2], ['ucb', 2], ['ucb', 2], ['ucb', 2], ['ucb', 2], ['ucb', 2], ['ucb', 2], ['ucb', 2]]\n",
      "total_reward:  43\n"
     ]
    },
    {
     "data": {
      "image/png": "[encoded data removed]",
      "text/plain": [
       "<Figure size 432x288 with 1 Axes>"
      ]
     },
     "metadata": {
      "needs_background": "light"
     },
     "output_type": "display_data"
    },
    {
     "name": "stdout",
     "output_type": "stream",
     "text": [
      "c=0.5\n",
      "[['ucb', 0], ['ucb', 1], ['ucb', 2], ['ucb', 3], ['ucb', 3], ['ucb', 3], ['ucb', 3], ['ucb', 3], ['ucb', 3], ['ucb', 3], ['ucb', 3], ['ucb', 3], ['ucb', 3], ['ucb', 3], ['ucb', 3], ['ucb', 3], ['ucb', 3], ['ucb', 3], ['ucb', 3], ['ucb', 3], ['ucb', 3], ['ucb', 3], ['ucb', 3], ['ucb', 3], ['ucb', 3], ['ucb', 3], ['ucb', 3], ['ucb', 3], ['ucb', 3], ['ucb', 3], ['ucb', 3], ['ucb', 3], ['ucb', 3], ['ucb', 3], ['ucb', 3], ['ucb', 3], ['ucb', 3], ['ucb', 3], ['ucb', 3], ['ucb', 3], ['ucb', 3], ['ucb', 3], ['ucb', 3], ['ucb', 3], ['ucb', 3], ['ucb', 3], ['ucb', 3], ['ucb', 3], ['ucb', 3], ['ucb', 3]]\n",
      "total_reward:  42\n"
     ]
    },
    {
     "data": {
      "image/png": "[encoded data removed]",
      "text/plain": [
       "<Figure size 432x288 with 1 Axes>"
      ]
     },
     "metadata": {
      "needs_background": "light"
     },
     "output_type": "display_data"
    },
    {
     "name": "stdout",
     "output_type": "stream",
     "text": [
      "c=1\n",
      "[['ucb', 0], ['ucb', 1], ['ucb', 1], ['ucb', 1], ['ucb', 2], ['ucb', 2], ['ucb', 2], ['ucb', 2], ['ucb', 2], ['ucb', 2], ['ucb', 2], ['ucb', 2], ['ucb', 2], ['ucb', 2], ['ucb', 2], ['ucb', 2], ['ucb', 2], ['ucb', 2], ['ucb', 2], ['ucb', 2], ['ucb', 2], ['ucb', 2], ['ucb', 2], ['ucb', 2], ['ucb', 2], ['ucb', 2], ['ucb', 2], ['ucb', 2], ['ucb', 2], ['ucb', 2], ['ucb', 2], ['ucb', 2], ['ucb', 2], ['ucb', 2], ['ucb', 2], ['ucb', 2], ['ucb', 2], ['ucb', 2], ['ucb', 2], ['ucb', 2], ['ucb', 2], ['ucb', 2], ['ucb', 2], ['ucb', 2], ['ucb', 2], ['ucb', 2], ['ucb', 2], ['ucb', 2], ['ucb', 2], ['ucb', 2]]\n",
      "total_reward:  43\n"
     ]
    },
    {
     "data": {
      "image/png": "[encoded data removed]",
      "text/plain": [
       "<Figure size 432x288 with 1 Axes>"
      ]
     },
     "metadata": {
      "needs_background": "light"
     },
     "output_type": "display_data"
    }
   ],
   "source": [
    "# bandit 問題の参考コード\n",
    "%matplotlib inline\n",
    "from pdb import set_trace as st\n",
    "import numpy as np\n",
    "import matplotlib.pyplot as plt\n",
    "\n",
    "class Arm:\n",
    "    def __init__(self, rate):\n",
    "        self.rate = rate\n",
    "        self.coins = 0\n",
    "        self.reward = 0\n",
    "\n",
    "    def pull(self):\n",
    "        self.coins += 1\n",
    "        if self.rate > np.random.rand():\n",
    "            self.reward += 1\n",
    "            return 1\n",
    "        else:\n",
    "            self.reward += 0\n",
    "            return 0\n",
    "\n",
    "class Game:\n",
    "    def __init__(self):\n",
    "        self.nu_arms = 4\n",
    "        self.arms = []\n",
    "        self.arms.append(Arm(0.5))\n",
    "        self.arms.append(Arm(0.1))\n",
    "        self.arms.append(Arm(0.8))\n",
    "        self.arms.append(Arm(0.9))\n",
    "        self.choice = []\n",
    "        self.choice_times=[1 for i in range(self.nu_arms)]\n",
    "\n",
    "    def SelectArm_by_egreedy(self,e):\n",
    "        '''\n",
    "        ここに Arm を選ぶコードを書け。\n",
    "        （このコードの例では、返値は最善の Arm の番号としている）\n",
    "        '''\n",
    "        reward_li=[i.reward for i in self.arms]\n",
    "        if np.random.rand() >e:\n",
    "            self.choice.append(['g',np.argmax(reward_li)])\n",
    "            return np.argmax(reward_li)\n",
    "        else:\n",
    "            r=np.random.randint(0,len(self.arms))\n",
    "            self.choice.append(['r',r])\n",
    "            return r\n",
    "    \n",
    "    def SelectArm_by_UCB(self,c):\n",
    "        reward_li=[i.reward for i in self.arms]\n",
    "        total=sum(self.choice_times)\n",
    "        bonus=np.sqrt((2*np.log(np.array(total)))/np.array(self.choice_times))\n",
    "        ucb_reward=np.array(reward_li)+ c*bonus\n",
    "        self.choice_times[np.argmax(ucb_reward)]+=1\n",
    "        self.choice.append(['ucb',np.argmax(ucb_reward)])\n",
    "        return np.argmax(ucb_reward)\n",
    "        \n",
    "\n",
    "    def Play(self, steps,e):\n",
    "        total_reward = 0\n",
    "        plot_avg_reward = []\n",
    "        for step in range(steps):\n",
    "            arm_id = self.SelectArm_by_egreedy(e)\n",
    "            reward = self.arms[arm_id].pull()\n",
    "            total_reward += reward\n",
    "            plot_avg_reward.append(total_reward / (step+1))\n",
    "        \n",
    "        print(self.choice)\n",
    "        print ('total_reward: ',total_reward)\n",
    "        plt.xlabel('Steps')\n",
    "        plt.ylabel('Avg. reward')\n",
    "        plt.plot(plot_avg_reward)\n",
    "        plt.show()\n",
    "        \n",
    "    def play_by_ucb(self,steps,c):\n",
    "        total_reward = 0\n",
    "        plot_avg_reward = []\n",
    "        for step in range(steps):\n",
    "            arm_id = self.SelectArm_by_UCB(c)\n",
    "            reward = self.arms[arm_id].pull()\n",
    "            total_reward += reward\n",
    "            plot_avg_reward.append(total_reward / (step+1))\n",
    "        \n",
    "        print(self.choice)\n",
    "        print ('total_reward: ',total_reward)\n",
    "        plt.xlabel('Steps')\n",
    "        plt.ylabel('Avg. reward')\n",
    "        plt.plot(plot_avg_reward)\n",
    "        plt.show()\n",
    "\n",
    "print('e-greedy')\n",
    "g = Game()\n",
    "print('e=0.1')\n",
    "g.Play(50,0.1)\n",
    "g = Game()\n",
    "print('e=0.5')\n",
    "g.Play(50,0.5)\n",
    "g = Game()\n",
    "print('e=0.9')\n",
    "g.Play(50,0.9)\n",
    "\n",
    "print('UCB')\n",
    "g= Game()\n",
    "print('c=0.1')\n",
    "g.play_by_ucb(50,0.1)\n",
    "g = Game()\n",
    "print('c=0.5')\n",
    "g.play_by_ucb(50,0.5)\n",
    "g = Game()\n",
    "print('c=1')\n",
    "g.play_by_ucb(50,1)\n"
   ]
  },
  {
   "cell_type": "markdown",
   "id": "6a3334fc-5660-450f-9307-5ada6ef7ab0c",
   "metadata": {},
   "source": [
    "# 課題3"
   ]
  },
  {
   "cell_type": "code",
   "execution_count": 76,
   "id": "1bf5f472-a439-44de-9e41-f5d9376d2ad2",
   "metadata": {},
   "outputs": [],
   "source": [
    "# tic-tac-toe playout\n",
    "import copy\n",
    "import random\n",
    "import numpy as np\n",
    "\n",
    "\n",
    "class mcts_node:\n",
    "    def __init__(self,parent=None,move=None,state=None,player_id=None,game=None):\n",
    "        self.childnode=[]\n",
    "        self.move=move\n",
    "        self.state=state\n",
    "        self.visit=0\n",
    "        self.value=0\n",
    "        self.parent=parent\n",
    "        self.player_id=player_id\n",
    "        self.game=game\n",
    "        if game.is_terminal(state):\n",
    "            self.untried_node=[]\n",
    "        else:\n",
    "            self.untried_node=game.board_blank(state)\n",
    "        \n",
    "        \n",
    "    def select_by_ucb(self):\n",
    "        reward_li=[]\n",
    "        for i in self.childnode:\n",
    "            ucb=(i.value/i.visit)+np.sqrt(2*np.log(self.visit)/i.visit)\n",
    "            reward_li.append(ucb)\n",
    "        if self.player_id ==0:\n",
    "            num=np.argmax(reward_li)\n",
    "        else:\n",
    "            num=np.argmin(reward_li)\n",
    "        return self.childnode[num]\n",
    "        \n",
    "    \n",
    "    def expand(self,move,state):\n",
    "        child=mcts_node(parent=self,move=move,state=state,player_id=1-self.player_id,game=self.game)\n",
    "        self.untried_node.remove(move)\n",
    "        self.childnode.append(child)\n",
    "        return child\n",
    "        \n",
    "        \n",
    "    def backpropagation(self,reward):\n",
    "        self.visit+=1\n",
    "        self.value+=reward\n",
    "        \n",
    "        \n",
    "class TicTacToe:\n",
    "    def __init__(self):\n",
    "        self.players = ['X', 'O']\n",
    "        \n",
    "    def is_terminal(self, state):\n",
    "        if self.is_draw(state):\n",
    "            return True\n",
    "        elif self.is_win(state,0) or self.is_win(state,1):\n",
    "            return True\n",
    "        return False\n",
    "        \n",
    "    def is_draw(self, state):\n",
    "        if self.is_win(state,0) or self.is_win(state,1):\n",
    "            return False\n",
    "        for i in state:\n",
    "            for j in i:\n",
    "                if j==' ':\n",
    "                    return False\n",
    "        return True\n",
    "\n",
    "    def is_win(self, state, player_id):\n",
    "        a=self.players[player_id]\n",
    "        li=[]\n",
    "        for i in range(3):\n",
    "            if state[i]==[a,a,a]:\n",
    "                return True\n",
    "            for j in range(3):\n",
    "                if state[i][j]==a:\n",
    "                    li.append([i,j])\n",
    "        pat=[[[i,j] for i in [0,1,2]] for j in [0,1,2]] +[[[0,0],[1,1],[2,2]]]+[[[0,2],[1,1],[2,0]]]\n",
    "        for i in pat:\n",
    "            x=0\n",
    "            for j in i:\n",
    "                if j in li:\n",
    "                    x+=1\n",
    "            if x==3:\n",
    "                return True\n",
    "        return False\n",
    "    \n",
    "    def reward(self,state):\n",
    "        if self.is_draw(state):\n",
    "            return 0\n",
    "        elif self.is_win(state,0):\n",
    "            return 1\n",
    "        elif self.is_win(state,1):\n",
    "            return -1\n",
    "        \n",
    "    def make_move(self, state, move, player_id):\n",
    "        new_state = copy.deepcopy(state)\n",
    "        x, y = move\n",
    "        char = self.players[player_id]\n",
    "        new_state[x][y] = char\n",
    "        return new_state\n",
    "    \n",
    "    def board_blank(self,state):\n",
    "        blank=[]\n",
    "        for i in range(3):\n",
    "            for j in range(3):\n",
    "                if state[i][j]==' ':\n",
    "                    blank.append([i,j])\n",
    "        return blank\n",
    "\n",
    "\n",
    "def mcts(game,begin_state,iteration):\n",
    "    mstnode=mcts_node(parent=None,move=None,state=begin_state,player_id=0,game=game)\n",
    "    \n",
    "    for i in range(iteration):\n",
    "        node=mstnode\n",
    "        state=begin_state\n",
    "        id=mstnode.player_id\n",
    "\n",
    "                \n",
    "        while node.untried_node == [] and node.childnode !=[]:\n",
    "            node=node.select_by_ucb()\n",
    "            state=game.make_move(state,node.move,id)\n",
    "            id=1-id\n",
    "            \n",
    "\n",
    "        if node.untried_node != []:\n",
    "            m=random.choice(node.untried_node)\n",
    "            state=game.make_move(state,m,id)\n",
    "            id=1-id\n",
    "            node=node.expand(m,state)\n",
    "\n",
    "        while not game.is_terminal(state) and game.board_blank(state) != []:\n",
    "            state=game.make_move(state,move=random.choice(game.board_blank(state)),player_id=id)\n",
    "            id=1-id\n",
    "\n",
    "        while node is not None:\n",
    "            node.backpropagation(game.reward(state))\n",
    "            node=node.parent\n",
    "        \n",
    "    return mstnode\n",
    "    "
   ]
  },
  {
   "cell_type": "code",
   "execution_count": 77,
   "id": "6a0686a2-72cd-4427-8d05-0accd780a0a4",
   "metadata": {},
   "outputs": [
    {
     "name": "stdout",
     "output_type": "stream",
     "text": [
      "mst.value: -0.1\n",
      "[[' ', ' ', 'X'], [' ', 'O', 'X'], ['X', ' ', 'O']] : -1.0\n",
      "[[' ', ' ', 'X'], [' ', 'O', ' '], ['X', 'X', 'O']] : -0.5\n",
      "[['X', ' ', 'X'], [' ', 'O', ' '], ['X', ' ', 'O']] : -1.0\n",
      "[[' ', 'X', 'X'], [' ', 'O', ' '], ['X', ' ', 'O']] : 0.0\n",
      "[[' ', ' ', 'X'], ['X', 'O', ' '], ['X', ' ', 'O']] : 0.5\n"
     ]
    }
   ],
   "source": [
    "game = TicTacToe()\n",
    "root_state = [[' ',' ','X'],\n",
    "              [' ','O',' '],\n",
    "              ['X',' ','O']]\n",
    "mst=mcts(game,root_state,10)\n",
    "print('mst.value:',mst.value/mst.visit)\n",
    "for i in mst.childnode:\n",
    "    print(i.state,':',i.value/i.visit)"
   ]
  },
  {
   "cell_type": "code",
   "execution_count": 84,
   "id": "af7da058-ff4b-4b70-88bb-e0387b744ce5",
   "metadata": {},
   "outputs": [
    {
     "name": "stdout",
     "output_type": "stream",
     "text": [
      "mst.value: 0.0\n",
      "[['X', ' ', 'X'], ['X', 'O', ' '], ['O', 'X', 'O']] : 0.3333333333333333\n",
      "[['X', ' ', ' '], ['X', 'O', 'X'], ['O', 'X', 'O']] : -0.3333333333333333\n",
      "[['X', 'X', ' '], ['X', 'O', ' '], ['O', 'X', 'O']] : -1.0\n"
     ]
    }
   ],
   "source": [
    "game = TicTacToe()\n",
    "root_state = [['X',' ',' '],\n",
    "              ['X','O',' '],\n",
    "              ['O','X','O']]        \n",
    "mst=mcts(game,root_state,10)\n",
    "print('mst.value:',mst.value/mst.visit)\n",
    "for i in mst.childnode:\n",
    "    print(i.state,':',i.value/i.visit)"
   ]
  },
  {
   "cell_type": "markdown",
   "id": "5eb8b1f0-8cbe-4426-aa41-fdc513318361",
   "metadata": {},
   "source": [
    "# 課題4"
   ]
  },
  {
   "cell_type": "code",
   "execution_count": 85,
   "id": "3cb5924e-872e-4351-96e0-a132d36d6bec",
   "metadata": {},
   "outputs": [
    {
     "name": "stdout",
     "output_type": "stream",
     "text": [
      "mst.value: 0.5\n",
      "[[' ', ' ', ' '], [' ', ' ', 'X'], [' ', ' ', ' ']] : -1.0\n",
      "[[' ', ' ', ' '], [' ', ' ', ' '], ['X', ' ', ' ']] : 1.0\n",
      "[[' ', ' ', 'X'], [' ', ' ', ' '], [' ', ' ', ' ']] : 1.0\n",
      "[[' ', ' ', ' '], [' ', ' ', ' '], [' ', ' ', 'X']] : 1.0\n",
      "[['X', ' ', ' '], [' ', ' ', ' '], [' ', ' ', ' ']] : -1.0\n",
      "[[' ', 'X', ' '], [' ', ' ', ' '], [' ', ' ', ' ']] : 1.0\n",
      "[[' ', ' ', ' '], [' ', ' ', ' '], [' ', 'X', ' ']] : 1.0\n",
      "[[' ', ' ', ' '], [' ', 'X', ' '], [' ', ' ', ' ']] : 0.0\n",
      "[[' ', ' ', ' '], ['X', ' ', ' '], [' ', ' ', ' ']] : 1.0\n"
     ]
    }
   ],
   "source": [
    "game = TicTacToe()\n",
    "root_state = [[' ',' ',' '],\n",
    "              [' ',' ',' '],\n",
    "              [' ',' ',' ']]        \n",
    "mst=mcts(game,root_state,10)\n",
    "print('mst.value:',mst.value/mst.visit)\n",
    "for i in mst.childnode:\n",
    "    print(i.state,':',i.value/i.visit)"
   ]
  },
  {
   "cell_type": "code",
   "execution_count": 86,
   "id": "25d10c82-47b1-4e06-b1c4-1d71b77427c9",
   "metadata": {},
   "outputs": [
    {
     "name": "stdout",
     "output_type": "stream",
     "text": [
      "mst.value: 0.43\n",
      "[[' ', ' ', ' '], [' ', ' ', ' '], [' ', 'X', ' ']] : 0.14285714285714285\n",
      "[[' ', ' ', ' '], [' ', ' ', ' '], ['X', ' ', ' ']] : 0.3\n",
      "[[' ', 'X', ' '], [' ', ' ', ' '], [' ', ' ', ' ']] : 0.125\n",
      "[[' ', ' ', ' '], [' ', ' ', 'X'], [' ', ' ', ' ']] : 0.45454545454545453\n",
      "[[' ', ' ', ' '], [' ', ' ', ' '], [' ', ' ', 'X']] : 0.5\n",
      "[[' ', ' ', 'X'], [' ', ' ', ' '], [' ', ' ', ' ']] : -0.25\n",
      "[[' ', ' ', ' '], [' ', 'X', ' '], [' ', ' ', ' ']] : 0.6470588235294118\n",
      "[['X', ' ', ' '], [' ', ' ', ' '], [' ', ' ', ' ']] : 0.5882352941176471\n",
      "[[' ', ' ', ' '], ['X', ' ', ' '], [' ', ' ', ' ']] : 0.5\n"
     ]
    }
   ],
   "source": [
    "game = TicTacToe()\n",
    "root_state = [[' ',' ',' '],\n",
    "              [' ',' ',' '],\n",
    "              [' ',' ',' ']]        \n",
    "mst=mcts(game,root_state,100)\n",
    "print('mst.value:',mst.value/mst.visit)\n",
    "for i in mst.childnode:\n",
    "    print(i.state,':',i.value/i.visit)"
   ]
  },
  {
   "cell_type": "markdown",
   "id": "032c4c1d-c14a-475f-84e1-02ca453d7c8a",
   "metadata": {},
   "source": [
    "# 課題5"
   ]
  },
  {
   "cell_type": "code",
   "execution_count": 110,
   "id": "d4863b15-de51-4156-9bac-7f150fdc1110",
   "metadata": {},
   "outputs": [],
   "source": [
    "import copy\n",
    "import random\n",
    "import numpy as np\n",
    "\n",
    "class ConnectFour:\n",
    "    def __init__(self):\n",
    "        # 7x6\n",
    "        self.players = ['X', 'O']\n",
    "        \n",
    "    def is_terminal(self, state):\n",
    "        if self.is_draw(state):\n",
    "            return True\n",
    "        elif self.is_win(state,0) or self.is_win(state,1):\n",
    "            return True\n",
    "        return False\n",
    "        \n",
    "    def is_draw(self, state):\n",
    "        if self.is_win(state,0) or self.is_win(state,1):\n",
    "            return False\n",
    "        for i in range(7):\n",
    "            if state[i][0]==' ':\n",
    "                return False\n",
    "        return True\n",
    "\n",
    "    def is_win(self, state, player_id):\n",
    "        li=[]\n",
    "        for i in range(7):\n",
    "            for j in range(6):\n",
    "                if state[i][j]==self.players[player_id]:\n",
    "                    li.append([i,j])\n",
    "        for i in li:\n",
    "            if [i[0]+1,i[1]] in li and [i[0]+2,i[1]] in li and [i[0]+3,i[1]] in li:\n",
    "                return True\n",
    "            if [i[0],i[1]+1] in li and [i[0],i[1]+2] in li and [i[0],i[1]+3] in li:\n",
    "                return True\n",
    "            if [i[0]+1,i[1]+1] in li and [i[0]+2,i[1]+2] in li and [i[0]+3,i[1]+3] in li:\n",
    "                return True\n",
    "            if [i[0]-1,i[1]+1] in li and [i[0]-2,i[1]+2] in li and [i[0]-3,i[1]+3] in li:\n",
    "                return True\n",
    "        return False\n",
    "    \n",
    "    def reward(self,state):\n",
    "        if self.is_draw(state):\n",
    "            return 0\n",
    "        elif self.is_win(state,0):\n",
    "            return 1\n",
    "        elif self.is_win(state,1):\n",
    "            return -1\n",
    "        \n",
    "    def make_move(self, state, move, player_id):\n",
    "        new_state = copy.deepcopy(state)\n",
    "        for i in range(6):\n",
    "            if state[move][i] != ' ':\n",
    "                char = self.players[player_id]\n",
    "                new_state[move][i-1] = char\n",
    "                return new_state\n",
    "        char = self.players[player_id]\n",
    "        new_state[move][5] = char\n",
    "        return new_state\n",
    "\n",
    "            \n",
    "    def board_blank(self,state):\n",
    "        blank=[]\n",
    "        for i in range(7):\n",
    "            if state[i][0]==' ':\n",
    "                blank.append(i)\n",
    "        return blank\n",
    "        "
   ]
  },
  {
   "cell_type": "code",
   "execution_count": 112,
   "id": "979b7a7a-e8f0-49bd-ad0c-148a90f57d63",
   "metadata": {},
   "outputs": [
    {
     "name": "stdout",
     "output_type": "stream",
     "text": [
      "mst.value: 0.14\n",
      "[[' ', ' ', ' ', ' ', ' ', ' '], [' ', ' ', ' ', ' ', ' ', ' '], [' ', ' ', ' ', ' ', ' ', ' '], [' ', ' ', ' ', ' ', ' ', ' '], [' ', ' ', ' ', ' ', ' ', ' '], [' ', ' ', ' ', ' ', ' ', ' '], [' ', ' ', ' ', ' ', ' ', 'X']] : -1.0\n",
      "[[' ', ' ', ' ', ' ', ' ', 'X'], [' ', ' ', ' ', ' ', ' ', ' '], [' ', ' ', ' ', ' ', ' ', ' '], [' ', ' ', ' ', ' ', ' ', ' '], [' ', ' ', ' ', ' ', ' ', ' '], [' ', ' ', ' ', ' ', ' ', ' '], [' ', ' ', ' ', ' ', ' ', ' ']] : -0.1111111111111111\n",
      "[[' ', ' ', ' ', ' ', ' ', ' '], [' ', ' ', ' ', ' ', ' ', ' '], [' ', ' ', ' ', ' ', ' ', 'X'], [' ', ' ', ' ', ' ', ' ', ' '], [' ', ' ', ' ', ' ', ' ', ' '], [' ', ' ', ' ', ' ', ' ', ' '], [' ', ' ', ' ', ' ', ' ', ' ']] : -1.0\n",
      "[[' ', ' ', ' ', ' ', ' ', ' '], [' ', ' ', ' ', ' ', ' ', 'X'], [' ', ' ', ' ', ' ', ' ', ' '], [' ', ' ', ' ', ' ', ' ', ' '], [' ', ' ', ' ', ' ', ' ', ' '], [' ', ' ', ' ', ' ', ' ', ' '], [' ', ' ', ' ', ' ', ' ', ' ']] : 0.125\n",
      "[[' ', ' ', ' ', ' ', ' ', ' '], [' ', ' ', ' ', ' ', ' ', ' '], [' ', ' ', ' ', ' ', ' ', ' '], [' ', ' ', ' ', ' ', ' ', 'X'], [' ', ' ', ' ', ' ', ' ', ' '], [' ', ' ', ' ', ' ', ' ', ' '], [' ', ' ', ' ', ' ', ' ', ' ']] : 0.42857142857142855\n",
      "[[' ', ' ', ' ', ' ', ' ', ' '], [' ', ' ', ' ', ' ', ' ', ' '], [' ', ' ', ' ', ' ', ' ', ' '], [' ', ' ', ' ', ' ', ' ', ' '], [' ', ' ', ' ', ' ', ' ', 'X'], [' ', ' ', ' ', ' ', ' ', ' '], [' ', ' ', ' ', ' ', ' ', ' ']] : 0.1111111111111111\n",
      "[[' ', ' ', ' ', ' ', ' ', ' '], [' ', ' ', ' ', ' ', ' ', ' '], [' ', ' ', ' ', ' ', ' ', ' '], [' ', ' ', ' ', ' ', ' ', ' '], [' ', ' ', ' ', ' ', ' ', ' '], [' ', ' ', ' ', ' ', ' ', 'X'], [' ', ' ', ' ', ' ', ' ', ' ']] : -0.1111111111111111\n"
     ]
    }
   ],
   "source": [
    "game = ConnectFour()\n",
    "root_state = [[' ',' ',' ',' ',' ',' '],\n",
    "              [' ',' ',' ',' ',' ',' '],\n",
    "              [' ',' ',' ',' ',' ',' '],\n",
    "              [' ',' ',' ',' ',' ',' '],\n",
    "              [' ',' ',' ',' ',' ',' '],\n",
    "              [' ',' ',' ',' ',' ',' '],\n",
    "              [' ',' ',' ',' ',' ',' ']]        \n",
    "mst=mcts(game,root_state,100)\n",
    "print('mst.value:',mst.value/mst.visit)\n",
    "for i in mst.childnode:\n",
    "    print(i.state,':',i.value/i.visit)"
   ]
  },
  {
   "cell_type": "markdown",
   "id": "abe85fb0-e649-4a62-a093-208ec850915d",
   "metadata": {},
   "source": [
    "参考文献\n",
    "1. \"Artificial Intelligence: A Modern Approach, 4th Global ed.\", by Stuart Russell and Peter Norvig  \n",
    "   http://aima.cs.berkeley.edu/index.html\n",
    "1. \"ヒューリスティック探索入門\", 陣内 佑  \n",
    "   https://jinnaiyuu.github.io/pdf/textbook.pdf\n",
    "1. \"ゼロから作るDeep Learning 4 - 強化学習編\", 斎藤 康毅, オライリージャパン, 2022."
   ]
  }
 ],
 "metadata": {
  "kernelspec": {
   "display_name": "Python 3 (ipykernel)",
   "language": "python",
   "name": "python3"
  },
  "language_info": {
   "codemirror_mode": {
    "name": "ipython",
    "version": 3
   },
   "file_extension": ".py",
   "mimetype": "text/x-python",
   "name": "python",
   "nbconvert_exporter": "python",
   "pygments_lexer": "ipython3",
   "version": "3.8.13"
  }
 },
 "nbformat": 4,
 "nbformat_minor": 5
}
